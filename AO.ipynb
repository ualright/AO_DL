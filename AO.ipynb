{
  "nbformat": 4,
  "nbformat_minor": 0,
  "metadata": {
    "colab": {
      "name": "AO.ipynb",
      "provenance": [],
      "collapsed_sections": [],
      "mount_file_id": "1ZnbJtmdBJEH-ecaPKGfYxooEiakKvhCD",
      "authorship_tag": "ABX9TyO3HMb3RQzwk35uEtBh0kef",
      "include_colab_link": true
    },
    "kernelspec": {
      "name": "python3",
      "display_name": "Python 3"
    },
    "accelerator": "GPU"
  },
  "cells": [
    {
      "cell_type": "markdown",
      "metadata": {
        "id": "view-in-github",
        "colab_type": "text"
      },
      "source": [
        "<a href=\"https://colab.research.google.com/github/hoonerg/AO_DL/blob/main/AO.ipynb\" target=\"_parent\"><img src=\"https://colab.research.google.com/assets/colab-badge.svg\" alt=\"Open In Colab\"/></a>"
      ]
    },
    {
      "cell_type": "code",
      "metadata": {
        "id": "vufEDgBUsYbJ"
      },
      "source": [
        "import numpy as np\n",
        "#from netCDF4 import Dataset\n",
        "import tensorflow as tf\n",
        "from tensorflow import keras\n",
        "from contextlib import redirect_stdout\n",
        "import os\n",
        "from numpy import load"
      ],
      "execution_count": null,
      "outputs": []
    },
    {
      "cell_type": "code",
      "metadata": {
        "id": "6IzmjJyos-WB"
      },
      "source": [
        "os.environ['TF_CPP_MIN_LOG_LEVEL']='2'"
      ],
      "execution_count": null,
      "outputs": []
    },
    {
      "cell_type": "code",
      "metadata": {
        "id": "-8_9hXLLtCf8"
      },
      "source": [
        "main_dir ='/content/drive/MyDrive/Colab Notebooks/'"
      ],
      "execution_count": null,
      "outputs": []
    },
    {
      "cell_type": "code",
      "metadata": {
        "id": "RSJEIXOktEzY"
      },
      "source": [
        "# input # Train_set\n",
        "f = load(main_dir+'data/train_set.npy','r') # [600,72,36,4]\n",
        "tr_x = f\n",
        "tr_tdim, xdim, ydim, zdim = tr_x.shape\n",
        "del f\n",
        "\n",
        "# label [600,1]\n",
        "f = load(main_dir+'data/train_label.npy','r')\n",
        "tr_y = f\n",
        "del f"
      ],
      "execution_count": null,
      "outputs": []
    },
    {
      "cell_type": "code",
      "metadata": {
        "id": "psAVSWG363l9"
      },
      "source": [
        "# input # Valid_set\n",
        "f = load(main_dir+'data/valid_set.npy', 'r') # [120,72,36,4]\n",
        "val_x = f\n",
        "val_tdim, xdim, ydim, zdim = val_x.shape\n",
        "del f\n",
        "\n",
        "# label [120,1]\n",
        "f = load(main_dir+'data/valid_label.npy', 'r')\n",
        "val_y = f\n",
        "del f"
      ],
      "execution_count": null,
      "outputs": []
    },
    {
      "cell_type": "code",
      "metadata": {
        "id": "5R1SUR-4GnQo"
      },
      "source": [
        "# input # test_set\n",
        "f = load(main_dir+'data/test_set.npy', 'r') # [120,72,36,4]\n",
        "test_x = f\n",
        "test_tdim, xdim, ydim, zdim = test_x.shape\n",
        "del f"
      ],
      "execution_count": null,
      "outputs": []
    },
    {
      "cell_type": "code",
      "metadata": {
        "id": "WwM-1uOLG7k6"
      },
      "source": [
        "# set callback\n",
        "callbacks_list = [\n",
        "\n",
        "  keras.callbacks.EarlyStopping(\n",
        "      monitor='val_loss',\n",
        "      mode='min',\n",
        "      patience=700,\n",
        "  ),\n",
        "\n",
        "  keras.callbacks.ModelCheckpoint(\n",
        "      filepath=main_dir+'output/cnn/model.hdf5',\n",
        "      monitor='val_loss',\n",
        "      save_best_only=True,\n",
        "  )\n",
        "]"
      ],
      "execution_count": null,
      "outputs": []
    },
    {
      "cell_type": "code",
      "metadata": {
        "id": "DcvWD-T2HA-R"
      },
      "source": [
        "# CNN model architecture\n",
        "inputs = keras.Input(shape=(xdim,ydim,zdim))\n",
        "\n",
        "conv1 = keras.layers.Conv2D(35, [3,3], activation='tanh', padding='same', strides=1)(inputs)\n",
        "pool1 = keras.layers.MaxPool2D((2,2), strides=2, padding='same')(conv1)\n",
        "conv2 = keras.layers.Conv2D(35, [3,3], activation='tanh', padding='same', strides=1)(pool1)\n",
        "pool2 = keras.layers.MaxPool2D((2,2), strides=2, padding='same')(conv2)\n",
        "conv3 = keras.layers.Conv2D(35, [3,3], activation='tanh', padding='same', strides=1)(pool2)\n",
        "flat = keras.layers.Flatten()(conv3)\n",
        "dense1 = keras.layers.Dense(50, activation='tanh')(flat)\n",
        "\n",
        "outputs = keras.layers.Dense(1, activation=None)(dense1)"
      ],
      "execution_count": null,
      "outputs": []
    },
    {
      "cell_type": "code",
      "metadata": {
        "id": "nB45UG91Hr_z"
      },
      "source": [
        "# Compile\n",
        "model = keras.Model(inputs=inputs, outputs=outputs)\n",
        "\n",
        "model.compile(optimizer=keras.optimizers.Adam(learning_rate=0.005), \n",
        "              loss='mse')\n",
        "\n",
        "# training\n",
        "history = model.fit(tr_x, tr_y, batch_size=200, epochs=800, verbose=1,\n",
        "                    callbacks=callbacks_list,\n",
        "                    validation_data=(val_x, val_y))"
      ],
      "execution_count": null,
      "outputs": []
    },
    {
      "cell_type": "code",
      "metadata": {
        "id": "jzAMsBRrIHmV"
      },
      "source": [
        "# model save\n",
        "model.save(main_dir+'output/cnn/model_last.hdf5')"
      ],
      "execution_count": null,
      "outputs": []
    },
    {
      "cell_type": "code",
      "metadata": {
        "id": "xp5Z-aU8KvIN"
      },
      "source": [
        "# model summary\n",
        "with open(main_dir+'output/cnn/model_summary.md', 'w') as f:\n",
        "    with redirect_stdout(f):\n",
        "        model.summary()\n",
        "\n",
        "tr_loss = history.history['loss']\n",
        "tr_loss = np.array(tr_loss)\n",
        "tr_loss.astype('float32').tofile(main_dir+'output/cnn/tr_loss.gdat')"
      ],
      "execution_count": null,
      "outputs": []
    },
    {
      "cell_type": "code",
      "metadata": {
        "id": "FnvxZBw3K97P"
      },
      "source": [
        "fcst = model.predict(test_x)\n",
        "\n",
        "# save\n",
        "fcst = np.array(fcst)\n",
        "tdim = len(fcst)\n",
        "fcst.astype('float32').tofile(main_dir+'output/cnn/fcst.gdat')\n",
        "\n",
        "f = open(main_dir+'output/cnn/fcst.ctl','w')\n",
        "f.write(\n",
        "'dset ^fcst.gdat\\n\\\n",
        "undef -9.99e+08\\n\\\n",
        "xdef   1  linear   0.  2.5\\n\\\n",
        "ydef   1  linear -90.  2.5\\n\\\n",
        "zdef   1  linear 1 1\\n\\\n",
        "tdef '+str(tdim)+'  linear jan1980 1yr\\n\\\n",
        "vars   1\\n\\\n",
        "nino    1   1  Nino3.4\\n\\\n",
        "ENDVARS\\n'\n",
        ")\n",
        "f.close()\n",
        "\n",
        "os.system('cdo -f nc import_binary '+main_dir+'output/cnn/fcst.ctl '+main_dir+'output/cnn/fcst.nc')\n",
        "os.system('rm -f '+main_dir+'output/cnn/fcst.ctl '+main_dir+'output/cnn/fcst.gdat')"
      ],
      "execution_count": null,
      "outputs": []
    },
    {
      "cell_type": "code",
      "metadata": {
        "id": "zeNk-dxOUIwA"
      },
      "source": [
        "print(fcst)"
      ],
      "execution_count": null,
      "outputs": []
    }
  ]
}